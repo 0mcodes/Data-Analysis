{
 "cells": [
  {
   "cell_type": "markdown",
   "metadata": {},
   "source": [
    "## Importing Libraries"
   ]
  },
  {
   "cell_type": "code",
   "execution_count": 1,
   "metadata": {},
   "outputs": [],
   "source": [
    "import pandas as pd\n"
   ]
  },
  {
   "cell_type": "markdown",
   "metadata": {},
   "source": [
    "## Importing dataset"
   ]
  },
  {
   "cell_type": "code",
   "execution_count": 4,
   "metadata": {},
   "outputs": [
    {
     "name": "stdout",
     "output_type": "stream",
     "text": [
      "Order Report:\n",
      "   ExternOrderNo            SKU  Order Qty  Unnamed: 3  Unnamed: 4\n",
      "0     2001827036  8904223818706        1.0         NaN         NaN\n",
      "1     2001827036  8904223819093        1.0         NaN         NaN\n",
      "2     2001827036  8904223819109        1.0         NaN         NaN\n",
      "3     2001827036  8904223818430        1.0         NaN         NaN\n",
      "4     2001827036  8904223819277        1.0         NaN         NaN\n",
      "\n",
      "SKU Master:\n",
      "             SKU  Weight (g)  Unnamed: 2  Unnamed: 3  Unnamed: 4\n",
      "0  8904223815682         210         NaN         NaN         NaN\n",
      "1  8904223815859         165         NaN         NaN         NaN\n",
      "2  8904223815866         113         NaN         NaN         NaN\n",
      "3  8904223815873          65         NaN         NaN         NaN\n",
      "4  8904223816214         120         NaN         NaN         NaN\n",
      "\n",
      "Pincode Mapping:\n",
      "   Warehouse Pincode  Customer Pincode Zone  Unnamed: 3  Unnamed: 4\n",
      "0             121003            507101    d         NaN         NaN\n",
      "1             121003            486886    d         NaN         NaN\n",
      "2             121003            532484    d         NaN         NaN\n",
      "3             121003            143001    b         NaN         NaN\n",
      "4             121003            515591    d         NaN         NaN\n",
      "\n",
      "Courier Invoice:\n",
      "        AWB Code    Order ID  Charged Weight  Warehouse Pincode  \\\n",
      "0  1091117222124  2001806232            1.30             121003   \n",
      "1  1091117222194  2001806273            1.00             121003   \n",
      "2  1091117222931  2001806408            2.50             121003   \n",
      "3  1091117223244  2001806458            1.00             121003   \n",
      "4  1091117229345  2001807012            0.15             121003   \n",
      "\n",
      "   Customer Pincode Zone Type of Shipment  Billing Amount (Rs.)  \n",
      "0            507101    d  Forward charges                 135.0  \n",
      "1            486886    d  Forward charges                  90.2  \n",
      "2            532484    d  Forward charges                 224.6  \n",
      "3            143001    b  Forward charges                  61.3  \n",
      "4            515591    d  Forward charges                  45.4  \n",
      "\n",
      "Courier Company rates:\n",
      "   fwd_a_fixed  fwd_a_additional  fwd_b_fixed  fwd_b_additional  fwd_c_fixed  \\\n",
      "0         29.5              23.6           33              28.3         40.1   \n",
      "\n",
      "   fwd_c_additional  fwd_d_fixed  fwd_d_additional  fwd_e_fixed  \\\n",
      "0              38.9         45.4              44.8         56.6   \n",
      "\n",
      "   fwd_e_additional  rto_a_fixed  rto_a_additional  rto_b_fixed  \\\n",
      "0              55.5         13.6              23.6         20.5   \n",
      "\n",
      "   rto_b_additional  rto_c_fixed  rto_c_additional  rto_d_fixed  \\\n",
      "0              28.3         31.9              38.9         41.3   \n",
      "\n",
      "   rto_d_additional  rto_e_fixed  rto_e_additional  \n",
      "0              44.8         50.7              55.5  \n"
     ]
    }
   ],
   "source": [
    "order_report = pd.read_csv('Order Report.csv')\n",
    "sku_master = pd.read_csv('SKU Master.csv')\n",
    "pincode_mapping = pd.read_csv('pincodes.csv')\n",
    "courier_invoice = pd.read_csv('Invoice.csv')\n",
    "courier_company_rates = pd.read_csv('Courier Company - Rates.csv')\n",
    "\n",
    "print(\"Order Report:\")\n",
    "print(order_report.head())\n",
    "print(\"\\nSKU Master:\")\n",
    "print(sku_master.head())\n",
    "print(\"\\nPincode Mapping:\")\n",
    "print(pincode_mapping.head())\n",
    "print(\"\\nCourier Invoice:\")\n",
    "print(courier_invoice.head())\n",
    "print(\"\\nCourier Company rates:\")\n",
    "print(courier_company_rates.head())"
   ]
  },
  {
   "cell_type": "markdown",
   "metadata": {},
   "source": [
    "## Checking for null values"
   ]
  },
  {
   "cell_type": "code",
   "execution_count": 5,
   "metadata": {},
   "outputs": [
    {
     "name": "stdout",
     "output_type": "stream",
     "text": [
      "\n",
      "Missing values in Website Order Report:\n",
      "ExternOrderNo      0\n",
      "SKU                0\n",
      "Order Qty          0\n",
      "Unnamed: 3       400\n",
      "Unnamed: 4       400\n",
      "dtype: int64\n",
      "\n",
      "Missing values in SKU Master:\n",
      "SKU            0\n",
      "Weight (g)     0\n",
      "Unnamed: 2    66\n",
      "Unnamed: 3    66\n",
      "Unnamed: 4    66\n",
      "dtype: int64\n",
      "\n",
      "Missing values in Pincode Mapping:\n",
      "Warehouse Pincode      0\n",
      "Customer Pincode       0\n",
      "Zone                   0\n",
      "Unnamed: 3           124\n",
      "Unnamed: 4           124\n",
      "dtype: int64\n",
      "\n",
      "Missing values in Courier Invoice:\n",
      "AWB Code                0\n",
      "Order ID                0\n",
      "Charged Weight          0\n",
      "Warehouse Pincode       0\n",
      "Customer Pincode        0\n",
      "Zone                    0\n",
      "Type of Shipment        0\n",
      "Billing Amount (Rs.)    0\n",
      "dtype: int64\n",
      "\n",
      "Missing values in courier company rates:\n",
      "fwd_a_fixed         0\n",
      "fwd_a_additional    0\n",
      "fwd_b_fixed         0\n",
      "fwd_b_additional    0\n",
      "fwd_c_fixed         0\n",
      "fwd_c_additional    0\n",
      "fwd_d_fixed         0\n",
      "fwd_d_additional    0\n",
      "fwd_e_fixed         0\n",
      "fwd_e_additional    0\n",
      "rto_a_fixed         0\n",
      "rto_a_additional    0\n",
      "rto_b_fixed         0\n",
      "rto_b_additional    0\n",
      "rto_c_fixed         0\n",
      "rto_c_additional    0\n",
      "rto_d_fixed         0\n",
      "rto_d_additional    0\n",
      "rto_e_fixed         0\n",
      "rto_e_additional    0\n",
      "dtype: int64\n"
     ]
    }
   ],
   "source": [
    "print(\"\\nMissing values in Website Order Report:\")\n",
    "print(order_report.isnull().sum())\n",
    "print(\"\\nMissing values in SKU Master:\")\n",
    "print(sku_master.isnull().sum())\n",
    "print(\"\\nMissing values in Pincode Mapping:\")\n",
    "print(pincode_mapping.isnull().sum())\n",
    "print(\"\\nMissing values in Courier Invoice:\")\n",
    "print(courier_invoice.isnull().sum())\n",
    "print(\"\\nMissing values in courier company rates:\")\n",
    "print(courier_company_rates.isnull().sum())"
   ]
  },
  {
   "cell_type": "markdown",
   "metadata": {},
   "source": [
    "## Cleaning Data"
   ]
  },
  {
   "cell_type": "code",
   "execution_count": 6,
   "metadata": {},
   "outputs": [],
   "source": [
    "# Remove unnamed columns from the Website Order Report DataFrame\n",
    "order_report = order_report.drop(columns=['Unnamed: 3', 'Unnamed: 4'])\n",
    "\n",
    "# Remove unnamed columns from the SKU Master DataFrame\n",
    "sku_master = sku_master.drop(columns=['Unnamed: 2', 'Unnamed: 3', 'Unnamed: 4'])\n",
    "\n",
    "# Remove unnamed columns from the Pincode Mapping DataFrame\n",
    "pincode_mapping = pincode_mapping.drop(columns=['Unnamed: 3', 'Unnamed: 4'])"
   ]
  },
  {
   "cell_type": "markdown",
   "metadata": {},
   "source": [
    "## Combining relevant Data"
   ]
  },
  {
   "cell_type": "code",
   "execution_count": 11,
   "metadata": {},
   "outputs": [
    {
     "name": "stdout",
     "output_type": "stream",
     "text": [
      "   ExternOrderNo            SKU  Order Qty  Weight (g)\n",
      "0     2001827036  8904223818706        1.0         127\n",
      "1     2001827036  8904223819093        1.0         150\n",
      "2     2001827036  8904223819109        1.0         100\n",
      "3     2001827036  8904223818430        1.0         165\n",
      "4     2001827036  8904223819277        1.0         350\n"
     ]
    }
   ],
   "source": [
    "# Merge the Order Report and SKU Master based on SKU\n",
    "merged_data = pd.merge(order_report, sku_master, on='SKU')\n",
    "print(merged_data.head())\n"
   ]
  },
  {
   "cell_type": "code",
   "execution_count": 12,
   "metadata": {},
   "outputs": [
    {
     "name": "stdout",
     "output_type": "stream",
     "text": [
      "     Order ID            SKU  Order Qty  Weight (g)\n",
      "0  2001827036  8904223818706        1.0         127\n",
      "1  2001827036  8904223819093        1.0         150\n",
      "2  2001827036  8904223819109        1.0         100\n",
      "3  2001827036  8904223818430        1.0         165\n",
      "4  2001827036  8904223819277        1.0         350\n"
     ]
    }
   ],
   "source": [
    "merged_data = merged_data.rename(columns={'ExternOrderNo': 'Order ID'})\n",
    "print(merged_data.head())"
   ]
  },
  {
   "cell_type": "code",
   "execution_count": 13,
   "metadata": {},
   "outputs": [
    {
     "name": "stdout",
     "output_type": "stream",
     "text": [
      "     Order ID  Customer Pincode Type of Shipment  Warehouse Pincode Zone\n",
      "0  2001806232            507101  Forward charges             121003    d\n",
      "1  2001806273            486886  Forward charges             121003    d\n",
      "2  2001806408            532484  Forward charges             121003    d\n",
      "3  2001806458            143001  Forward charges             121003    b\n",
      "4  2001807012            515591  Forward charges             121003    d\n"
     ]
    }
   ],
   "source": [
    "#getting unique pincodes\n",
    "abc_courier = pincode_mapping.drop_duplicates(subset=['Customer Pincode'])\n",
    "\n",
    "courier_abc= courier_invoice[['Order ID', 'Customer Pincode','Type of Shipment']]\n",
    "pincodes= courier_abc.merge(abc_courier,on='Customer Pincode')\n",
    "print(pincodes.head())"
   ]
  },
  {
   "cell_type": "code",
   "execution_count": 14,
   "metadata": {},
   "outputs": [],
   "source": [
    "# merging pincodes to main data \n",
    "\n",
    "merged2 = merged_data.merge(pincodes,on='Order ID')"
   ]
  },
  {
   "cell_type": "code",
   "execution_count": 15,
   "metadata": {},
   "outputs": [],
   "source": [
    "#creating a column of weight of object in kg\n",
    "\n",
    "merged2['Weight (Kgs)'] = merged2['Weight (g)']/1000"
   ]
  },
  {
   "cell_type": "code",
   "execution_count": 16,
   "metadata": {},
   "outputs": [],
   "source": [
    "#calculating weight slabs\n",
    "\n",
    "def weight_slab(weight):\n",
    "    i = round(weight%1,1)\n",
    "    if i==0:\n",
    "        return weight\n",
    "    elif i>0.5:\n",
    "        return int(weight)+1\n",
    "    else:\n",
    "        return int(weight)+0.5\n",
    "    \n",
    "#applying function to create a new column\n",
    "\n",
    "merged2['Weight Slab'] = merged2['Weight (Kgs)'].apply(weight_slab)\n",
    "courier_invoice['Weight slab cherged by company'] = courier_invoice['Charged Weight'].apply(weight_slab)"
   ]
  },
  {
   "cell_type": "code",
   "execution_count": 17,
   "metadata": {},
   "outputs": [],
   "source": [
    "#changing column names\n",
    "courier_invoice = courier_invoice.rename(columns={'Zone': 'Delivery Zone Charged by Courier Company'})\n",
    "merged2 = merged2.rename(columns={'Zone': 'Delivery Zone As Per ABC'})\n",
    "merged2 = merged2.rename(columns={'Weight Slab': 'Weight Slab As Per ABC'})"
   ]
  }
 ],
 "metadata": {
  "kernelspec": {
   "display_name": "Python 3",
   "language": "python",
   "name": "python3"
  },
  "language_info": {
   "codemirror_mode": {
    "name": "ipython",
    "version": 3
   },
   "file_extension": ".py",
   "mimetype": "text/x-python",
   "name": "python",
   "nbconvert_exporter": "python",
   "pygments_lexer": "ipython3",
   "version": "3.12.4"
  }
 },
 "nbformat": 4,
 "nbformat_minor": 2
}
