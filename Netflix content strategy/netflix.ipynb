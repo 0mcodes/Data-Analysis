{
 "cells": [
  {
   "cell_type": "markdown",
   "metadata": {},
   "source": [
    "## Importing Libraries"
   ]
  },
  {
   "cell_type": "code",
   "execution_count": 11,
   "metadata": {},
   "outputs": [],
   "source": [
    "import pandas as pd \n",
    "import plotly.express as px\n",
    "import plotly.graph_objects as go\n",
    "import plotly.io as pio\n",
    "import matplotlib.pyplot as plt\n",
    "\n",
    "pio.templates.default = 'plotly_white'"
   ]
  },
  {
   "cell_type": "markdown",
   "metadata": {},
   "source": [
    "## Loading dataset"
   ]
  },
  {
   "cell_type": "code",
   "execution_count": 2,
   "metadata": {},
   "outputs": [],
   "source": [
    "df = pd.read_csv('netflix_content_2023.csv')"
   ]
  },
  {
   "cell_type": "code",
   "execution_count": 3,
   "metadata": {},
   "outputs": [
    {
     "data": {
      "text/html": [
       "<div>\n",
       "<style scoped>\n",
       "    .dataframe tbody tr th:only-of-type {\n",
       "        vertical-align: middle;\n",
       "    }\n",
       "\n",
       "    .dataframe tbody tr th {\n",
       "        vertical-align: top;\n",
       "    }\n",
       "\n",
       "    .dataframe thead th {\n",
       "        text-align: right;\n",
       "    }\n",
       "</style>\n",
       "<table border=\"1\" class=\"dataframe\">\n",
       "  <thead>\n",
       "    <tr style=\"text-align: right;\">\n",
       "      <th></th>\n",
       "      <th>Title</th>\n",
       "      <th>Available Globally?</th>\n",
       "      <th>Release Date</th>\n",
       "      <th>Hours Viewed</th>\n",
       "      <th>Language Indicator</th>\n",
       "      <th>Content Type</th>\n",
       "    </tr>\n",
       "  </thead>\n",
       "  <tbody>\n",
       "    <tr>\n",
       "      <th>0</th>\n",
       "      <td>The Night Agent: Season 1</td>\n",
       "      <td>Yes</td>\n",
       "      <td>2023-03-23</td>\n",
       "      <td>81,21,00,000</td>\n",
       "      <td>English</td>\n",
       "      <td>Show</td>\n",
       "    </tr>\n",
       "    <tr>\n",
       "      <th>1</th>\n",
       "      <td>Ginny &amp; Georgia: Season 2</td>\n",
       "      <td>Yes</td>\n",
       "      <td>2023-01-05</td>\n",
       "      <td>66,51,00,000</td>\n",
       "      <td>English</td>\n",
       "      <td>Show</td>\n",
       "    </tr>\n",
       "    <tr>\n",
       "      <th>2</th>\n",
       "      <td>The Glory: Season 1 // 더 글로리: 시즌 1</td>\n",
       "      <td>Yes</td>\n",
       "      <td>2022-12-30</td>\n",
       "      <td>62,28,00,000</td>\n",
       "      <td>Korean</td>\n",
       "      <td>Show</td>\n",
       "    </tr>\n",
       "    <tr>\n",
       "      <th>3</th>\n",
       "      <td>Wednesday: Season 1</td>\n",
       "      <td>Yes</td>\n",
       "      <td>2022-11-23</td>\n",
       "      <td>50,77,00,000</td>\n",
       "      <td>English</td>\n",
       "      <td>Show</td>\n",
       "    </tr>\n",
       "    <tr>\n",
       "      <th>4</th>\n",
       "      <td>Queen Charlotte: A Bridgerton Story</td>\n",
       "      <td>Yes</td>\n",
       "      <td>2023-05-04</td>\n",
       "      <td>50,30,00,000</td>\n",
       "      <td>English</td>\n",
       "      <td>Movie</td>\n",
       "    </tr>\n",
       "  </tbody>\n",
       "</table>\n",
       "</div>"
      ],
      "text/plain": [
       "                                 Title Available Globally? Release Date  \\\n",
       "0            The Night Agent: Season 1                 Yes   2023-03-23   \n",
       "1            Ginny & Georgia: Season 2                 Yes   2023-01-05   \n",
       "2   The Glory: Season 1 // 더 글로리: 시즌 1                 Yes   2022-12-30   \n",
       "3                  Wednesday: Season 1                 Yes   2022-11-23   \n",
       "4  Queen Charlotte: A Bridgerton Story                 Yes   2023-05-04   \n",
       "\n",
       "   Hours Viewed Language Indicator Content Type  \n",
       "0  81,21,00,000            English         Show  \n",
       "1  66,51,00,000            English         Show  \n",
       "2  62,28,00,000             Korean         Show  \n",
       "3  50,77,00,000            English         Show  \n",
       "4  50,30,00,000            English        Movie  "
      ]
     },
     "execution_count": 3,
     "metadata": {},
     "output_type": "execute_result"
    }
   ],
   "source": [
    "df.head()"
   ]
  },
  {
   "cell_type": "code",
   "execution_count": 4,
   "metadata": {},
   "outputs": [
    {
     "data": {
      "text/html": [
       "<div>\n",
       "<style scoped>\n",
       "    .dataframe tbody tr th:only-of-type {\n",
       "        vertical-align: middle;\n",
       "    }\n",
       "\n",
       "    .dataframe tbody tr th {\n",
       "        vertical-align: top;\n",
       "    }\n",
       "\n",
       "    .dataframe thead th {\n",
       "        text-align: right;\n",
       "    }\n",
       "</style>\n",
       "<table border=\"1\" class=\"dataframe\">\n",
       "  <thead>\n",
       "    <tr style=\"text-align: right;\">\n",
       "      <th></th>\n",
       "      <th>Title</th>\n",
       "      <th>Available Globally?</th>\n",
       "      <th>Release Date</th>\n",
       "      <th>Hours Viewed</th>\n",
       "      <th>Language Indicator</th>\n",
       "      <th>Content Type</th>\n",
       "    </tr>\n",
       "  </thead>\n",
       "  <tbody>\n",
       "    <tr>\n",
       "      <th>count</th>\n",
       "      <td>24812</td>\n",
       "      <td>24812</td>\n",
       "      <td>8166</td>\n",
       "      <td>24812</td>\n",
       "      <td>24812</td>\n",
       "      <td>24812</td>\n",
       "    </tr>\n",
       "    <tr>\n",
       "      <th>unique</th>\n",
       "      <td>19158</td>\n",
       "      <td>2</td>\n",
       "      <td>1783</td>\n",
       "      <td>889</td>\n",
       "      <td>6</td>\n",
       "      <td>2</td>\n",
       "    </tr>\n",
       "    <tr>\n",
       "      <th>top</th>\n",
       "      <td>La Reina del Sur: Season 3</td>\n",
       "      <td>No</td>\n",
       "      <td>2020-03-20</td>\n",
       "      <td>1,00,000</td>\n",
       "      <td>English</td>\n",
       "      <td>Movie</td>\n",
       "    </tr>\n",
       "    <tr>\n",
       "      <th>freq</th>\n",
       "      <td>2</td>\n",
       "      <td>17162</td>\n",
       "      <td>28</td>\n",
       "      <td>4046</td>\n",
       "      <td>17268</td>\n",
       "      <td>14104</td>\n",
       "    </tr>\n",
       "  </tbody>\n",
       "</table>\n",
       "</div>"
      ],
      "text/plain": [
       "                             Title Available Globally? Release Date  \\\n",
       "count                        24812               24812         8166   \n",
       "unique                       19158                   2         1783   \n",
       "top     La Reina del Sur: Season 3                  No   2020-03-20   \n",
       "freq                             2               17162           28   \n",
       "\n",
       "       Hours Viewed Language Indicator Content Type  \n",
       "count         24812              24812        24812  \n",
       "unique          889                  6            2  \n",
       "top        1,00,000            English        Movie  \n",
       "freq           4046              17268        14104  "
      ]
     },
     "execution_count": 4,
     "metadata": {},
     "output_type": "execute_result"
    }
   ],
   "source": [
    "df.describe()"
   ]
  },
  {
   "cell_type": "markdown",
   "metadata": {},
   "source": [
    "#### Cleaning and preprocessing hours viewed column"
   ]
  },
  {
   "cell_type": "code",
   "execution_count": 8,
   "metadata": {},
   "outputs": [
    {
     "data": {
      "text/html": [
       "<div>\n",
       "<style scoped>\n",
       "    .dataframe tbody tr th:only-of-type {\n",
       "        vertical-align: middle;\n",
       "    }\n",
       "\n",
       "    .dataframe tbody tr th {\n",
       "        vertical-align: top;\n",
       "    }\n",
       "\n",
       "    .dataframe thead th {\n",
       "        text-align: right;\n",
       "    }\n",
       "</style>\n",
       "<table border=\"1\" class=\"dataframe\">\n",
       "  <thead>\n",
       "    <tr style=\"text-align: right;\">\n",
       "      <th></th>\n",
       "      <th>Hours Viewed</th>\n",
       "    </tr>\n",
       "  </thead>\n",
       "  <tbody>\n",
       "    <tr>\n",
       "      <th>0</th>\n",
       "      <td>812100000.0</td>\n",
       "    </tr>\n",
       "    <tr>\n",
       "      <th>1</th>\n",
       "      <td>665100000.0</td>\n",
       "    </tr>\n",
       "    <tr>\n",
       "      <th>2</th>\n",
       "      <td>622800000.0</td>\n",
       "    </tr>\n",
       "    <tr>\n",
       "      <th>3</th>\n",
       "      <td>507700000.0</td>\n",
       "    </tr>\n",
       "    <tr>\n",
       "      <th>4</th>\n",
       "      <td>503000000.0</td>\n",
       "    </tr>\n",
       "  </tbody>\n",
       "</table>\n",
       "</div>"
      ],
      "text/plain": [
       "   Hours Viewed\n",
       "0   812100000.0\n",
       "1   665100000.0\n",
       "2   622800000.0\n",
       "3   507700000.0\n",
       "4   503000000.0"
      ]
     },
     "execution_count": 8,
     "metadata": {},
     "output_type": "execute_result"
    }
   ],
   "source": [
    "df['Hours Viewed'] = df['Hours Viewed'].replace(',','',regex=True).astype(float)\n",
    "df[['Hours Viewed']].head()"
   ]
  },
  {
   "cell_type": "markdown",
   "metadata": {},
   "source": [
    "## Aggregating viewers based on Content Type"
   ]
  },
  {
   "cell_type": "code",
   "execution_count": 17,
   "metadata": {},
   "outputs": [
    {
     "data": {
      "text/plain": [
       "Text(0.5, 1.0, 'Viewers Aggregated based on content type')"
      ]
     },
     "execution_count": 17,
     "metadata": {},
     "output_type": "execute_result"
    },
    {
     "data": {
      "image/png": "[encoded data removed]",
      "text/plain": [
       "<Figure size 640x480 with 1 Axes>"
      ]
     },
     "metadata": {},
     "output_type": "display_data"
    }
   ],
   "source": [
    "content_type_viewership = df.groupby('Content Type')['Hours Viewed'].sum()\n",
    "colors = ['red','royalblue']\n",
    "\n",
    "plt.bar(content_type_viewership.index,content_type_viewership.values,color=colors)\n",
    "plt.xlabel('Content Type')\n",
    "plt.ylabel('Total Hours Viewed(in billions)')\n",
    "plt.title('Viewers Aggregated based on content type')"
   ]
  }
 ],
 "metadata": {
  "kernelspec": {
   "display_name": "Python 3",
   "language": "python",
   "name": "python3"
  },
  "language_info": {
   "codemirror_mode": {
    "name": "ipython",
    "version": 3
   },
   "file_extension": ".py",
   "mimetype": "text/x-python",
   "name": "python",
   "nbconvert_exporter": "python",
   "pygments_lexer": "ipython3",
   "version": "3.12.4"
  }
 },
 "nbformat": 4,
 "nbformat_minor": 2
}
